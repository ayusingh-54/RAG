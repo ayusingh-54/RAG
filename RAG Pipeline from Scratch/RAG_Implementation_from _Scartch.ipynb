{
  "cells": [
    {
      "cell_type": "markdown",
      "id": "a23e506d",
      "metadata": {
        "id": "a23e506d"
      },
      "source": [
        "![image.png](attachment:image.png)"
      ]
    },
    {
      "cell_type": "code",
      "execution_count": 1,
      "id": "21b48801",
      "metadata": {
        "id": "21b48801"
      },
      "outputs": [],
      "source": [
        "corpus_of_documents = [\n",
        "    \"Take a leisurely walk in the park and enjoy the fresh air.\",\n",
        "    \"Visit a local museum and discover something new.\",\n",
        "    \"Attend a live music concert and feel the rhythm.\",\n",
        "    \"Go for a hike and admire the natural scenery.\",\n",
        "    \"Have a picnic with friends and share some laughs.\",\n",
        "    \"Explore a new cuisine by dining at an ethnic restaurant.\",\n",
        "    \"Take a yoga class and stretch your body and mind.\",\n",
        "    \"Join a local sports league and enjoy some friendly competition.\",\n",
        "    \"Attend a workshop or lecture on a topic you're interested in.\",\n",
        "    \"Visit an amusement park and ride the roller coasters.\"\n",
        "]"
      ]
    },
    {
      "cell_type": "code",
      "execution_count": 2,
      "id": "90d4b2e3",
      "metadata": {
        "colab": {
          "base_uri": "https://localhost:8080/"
        },
        "id": "90d4b2e3",
        "outputId": "99acdb96-3678-49f5-f579-e4bd6ba2b73b"
      },
      "outputs": [
        {
          "output_type": "execute_result",
          "data": {
            "text/plain": [
              "['Take a leisurely walk in the park and enjoy the fresh air.',\n",
              " 'Visit a local museum and discover something new.',\n",
              " 'Attend a live music concert and feel the rhythm.',\n",
              " 'Go for a hike and admire the natural scenery.',\n",
              " 'Have a picnic with friends and share some laughs.',\n",
              " 'Explore a new cuisine by dining at an ethnic restaurant.',\n",
              " 'Take a yoga class and stretch your body and mind.',\n",
              " 'Join a local sports league and enjoy some friendly competition.',\n",
              " \"Attend a workshop or lecture on a topic you're interested in.\",\n",
              " 'Visit an amusement park and ride the roller coasters.']"
            ]
          },
          "metadata": {},
          "execution_count": 2
        }
      ],
      "source": [
        "corpus_of_documents"
      ]
    },
    {
      "cell_type": "markdown",
      "id": "f0ac1141",
      "metadata": {
        "id": "f0ac1141"
      },
      "source": [
        "![image.png](attachment:image.png)"
      ]
    },
    {
      "cell_type": "code",
      "execution_count": 3,
      "id": "b6c356de",
      "metadata": {
        "id": "b6c356de"
      },
      "outputs": [],
      "source": [
        "user_query=\"i am an indian and i live in india\""
      ]
    },
    {
      "cell_type": "code",
      "execution_count": 4,
      "id": "f7c146e6",
      "metadata": {
        "id": "f7c146e6"
      },
      "outputs": [],
      "source": [
        "document=\"india is a country for the indians and for eveyone\""
      ]
    },
    {
      "cell_type": "code",
      "execution_count": 5,
      "id": "46d056f8",
      "metadata": {
        "id": "46d056f8"
      },
      "outputs": [],
      "source": [
        "from collections import Counter\n",
        "import math"
      ]
    },
    {
      "cell_type": "code",
      "execution_count": 6,
      "id": "8c32d08b",
      "metadata": {
        "id": "8c32d08b"
      },
      "outputs": [],
      "source": [
        "query_tokens=user_query.lower().split(\" \")"
      ]
    },
    {
      "cell_type": "code",
      "execution_count": 7,
      "id": "06f250e2",
      "metadata": {
        "colab": {
          "base_uri": "https://localhost:8080/"
        },
        "id": "06f250e2",
        "outputId": "48f308b7-a026-43f2-998f-d251df7c2d21"
      },
      "outputs": [
        {
          "output_type": "execute_result",
          "data": {
            "text/plain": [
              "['i', 'am', 'an', 'indian', 'and', 'i', 'live', 'in', 'india']"
            ]
          },
          "metadata": {},
          "execution_count": 7
        }
      ],
      "source": [
        "query_tokens"
      ]
    },
    {
      "cell_type": "code",
      "execution_count": 8,
      "id": "21e4f2d2",
      "metadata": {
        "id": "21e4f2d2"
      },
      "outputs": [],
      "source": [
        "document_tokens=document.lower().split(\" \")"
      ]
    },
    {
      "cell_type": "code",
      "execution_count": 9,
      "id": "016c4d7d",
      "metadata": {
        "colab": {
          "base_uri": "https://localhost:8080/"
        },
        "id": "016c4d7d",
        "outputId": "ff4d6ac4-fcdc-40de-fcf3-3624ed9d2c44"
      },
      "outputs": [
        {
          "output_type": "execute_result",
          "data": {
            "text/plain": [
              "['india',\n",
              " 'is',\n",
              " 'a',\n",
              " 'country',\n",
              " 'for',\n",
              " 'the',\n",
              " 'indians',\n",
              " 'and',\n",
              " 'for',\n",
              " 'eveyone']"
            ]
          },
          "metadata": {},
          "execution_count": 9
        }
      ],
      "source": [
        "document_tokens"
      ]
    },
    {
      "cell_type": "code",
      "execution_count": 10,
      "id": "b40a06c2",
      "metadata": {
        "id": "b40a06c2"
      },
      "outputs": [],
      "source": [
        "query_counter=Counter(query_tokens)"
      ]
    },
    {
      "cell_type": "code",
      "execution_count": 11,
      "id": "1c46ef46",
      "metadata": {
        "colab": {
          "base_uri": "https://localhost:8080/"
        },
        "id": "1c46ef46",
        "outputId": "a187be37-f627-4193-dbda-2f8bd9c7e057"
      },
      "outputs": [
        {
          "output_type": "execute_result",
          "data": {
            "text/plain": [
              "Counter({'i': 2,\n",
              "         'am': 1,\n",
              "         'an': 1,\n",
              "         'indian': 1,\n",
              "         'and': 1,\n",
              "         'live': 1,\n",
              "         'in': 1,\n",
              "         'india': 1})"
            ]
          },
          "metadata": {},
          "execution_count": 11
        }
      ],
      "source": [
        "query_counter"
      ]
    },
    {
      "cell_type": "code",
      "execution_count": 12,
      "id": "9e2212d7",
      "metadata": {
        "id": "9e2212d7"
      },
      "outputs": [],
      "source": [
        "document_counter=Counter(document_tokens)"
      ]
    },
    {
      "cell_type": "code",
      "execution_count": 13,
      "id": "e54dece3",
      "metadata": {
        "colab": {
          "base_uri": "https://localhost:8080/"
        },
        "id": "e54dece3",
        "outputId": "bbff5657-eab6-49e6-dc9b-f59a2656ed13"
      },
      "outputs": [
        {
          "output_type": "execute_result",
          "data": {
            "text/plain": [
              "Counter({'india': 1,\n",
              "         'is': 1,\n",
              "         'a': 1,\n",
              "         'country': 1,\n",
              "         'for': 2,\n",
              "         'the': 1,\n",
              "         'indians': 1,\n",
              "         'and': 1,\n",
              "         'eveyone': 1})"
            ]
          },
          "metadata": {},
          "execution_count": 13
        }
      ],
      "source": [
        "document_counter"
      ]
    },
    {
      "cell_type": "code",
      "execution_count": 14,
      "id": "e29120ef",
      "metadata": {
        "id": "e29120ef"
      },
      "outputs": [],
      "source": [
        "lst=[]\n",
        "for token in query_counter.keys():\n",
        "    lst.append(query_counter[token])"
      ]
    },
    {
      "cell_type": "code",
      "source": [
        "lst"
      ],
      "metadata": {
        "id": "47JXp3jccuh2",
        "outputId": "e8bc7f9c-853a-45ba-e0c0-0315354b0f82",
        "colab": {
          "base_uri": "https://localhost:8080/"
        }
      },
      "id": "47JXp3jccuh2",
      "execution_count": 15,
      "outputs": [
        {
          "output_type": "execute_result",
          "data": {
            "text/plain": [
              "[2, 1, 1, 1, 1, 1, 1, 1]"
            ]
          },
          "metadata": {},
          "execution_count": 15
        }
      ]
    },
    {
      "cell_type": "code",
      "execution_count": 17,
      "id": "5428e2ae",
      "metadata": {
        "id": "5428e2ae"
      },
      "outputs": [],
      "source": [
        "user_query=\"i am an indian and i live in india\"\n",
        "document=\"india is a country for the indians and for eveyone\""
      ]
    },
    {
      "cell_type": "code",
      "execution_count": 16,
      "id": "6d2374a5",
      "metadata": {
        "colab": {
          "base_uri": "https://localhost:8080/"
        },
        "id": "6d2374a5",
        "outputId": "2482b1de-0730-4a71-bc51-c38f6940aad6"
      },
      "outputs": [
        {
          "output_type": "execute_result",
          "data": {
            "text/plain": [
              "[2, 1, 1, 1, 1, 1, 1, 1]"
            ]
          },
          "metadata": {},
          "execution_count": 16
        }
      ],
      "source": [
        "#sentance vector\n",
        "lst"
      ]
    },
    {
      "cell_type": "code",
      "execution_count": 18,
      "id": "86c407aa",
      "metadata": {
        "colab": {
          "base_uri": "https://localhost:8080/"
        },
        "id": "86c407aa",
        "outputId": "391a7548-ab6a-48b1-f2d4-fd990eb76882"
      },
      "outputs": [
        {
          "output_type": "stream",
          "name": "stdout",
          "text": [
            "and\n",
            "india\n"
          ]
        }
      ],
      "source": [
        "for tokens in query_counter.keys() & document_counter.keys():\n",
        "    print(tokens)"
      ]
    },
    {
      "cell_type": "code",
      "execution_count": 19,
      "id": "5a622d22",
      "metadata": {
        "id": "5a622d22"
      },
      "outputs": [],
      "source": [
        "mylist=[]\n",
        "for tokens in query_counter.keys() & document_counter.keys():\n",
        "    mylist.append(query_counter[tokens]*document_counter[tokens])"
      ]
    },
    {
      "cell_type": "code",
      "execution_count": 20,
      "id": "14bc8e50",
      "metadata": {
        "colab": {
          "base_uri": "https://localhost:8080/"
        },
        "id": "14bc8e50",
        "outputId": "b470a1a0-cad1-4b84-e597-86bd3dc99f42"
      },
      "outputs": [
        {
          "output_type": "execute_result",
          "data": {
            "text/plain": [
              "[1, 1]"
            ]
          },
          "metadata": {},
          "execution_count": 20
        }
      ],
      "source": [
        "mylist"
      ]
    },
    {
      "cell_type": "code",
      "execution_count": 21,
      "id": "8a2de76f",
      "metadata": {
        "id": "8a2de76f"
      },
      "outputs": [],
      "source": [
        "dot_prod=sum(mylist)"
      ]
    },
    {
      "cell_type": "code",
      "execution_count": 22,
      "id": "f4852ff9",
      "metadata": {
        "id": "f4852ff9"
      },
      "outputs": [],
      "source": [
        "query_magnitude = math.sqrt(sum(query_counter[token] ** 2 for token in query_counter))\n",
        ""
      ]
    },
    {
      "cell_type": "code",
      "execution_count": 23,
      "id": "9d6057fb",
      "metadata": {
        "colab": {
          "base_uri": "https://localhost:8080/"
        },
        "id": "9d6057fb",
        "outputId": "23e9a604-15f7-4252-bc35-0004dcecf06d"
      },
      "outputs": [
        {
          "output_type": "execute_result",
          "data": {
            "text/plain": [
              "3.3166247903554"
            ]
          },
          "metadata": {},
          "execution_count": 23
        }
      ],
      "source": [
        "query_magnitude"
      ]
    },
    {
      "cell_type": "code",
      "execution_count": null,
      "id": "f0b360ae",
      "metadata": {
        "id": "f0b360ae"
      },
      "outputs": [],
      "source": [
        "document_magnitude = math.sqrt(sum(document_counter[token] ** 2 for token in document_counter))"
      ]
    },
    {
      "cell_type": "code",
      "execution_count": null,
      "id": "21cdf4fe",
      "metadata": {
        "id": "21cdf4fe",
        "outputId": "473e6255-311a-45ef-df01-917b42dac273"
      },
      "outputs": [
        {
          "data": {
            "text/plain": [
              "3.4641016151377544"
            ]
          },
          "execution_count": 34,
          "metadata": {},
          "output_type": "execute_result"
        }
      ],
      "source": [
        "document_magnitude"
      ]
    },
    {
      "cell_type": "code",
      "execution_count": null,
      "id": "2884325e",
      "metadata": {
        "id": "2884325e"
      },
      "outputs": [],
      "source": [
        "similarity=(dot_prod)/(query_magnitude*document_magnitude)"
      ]
    },
    {
      "cell_type": "code",
      "execution_count": null,
      "id": "61d35f16",
      "metadata": {
        "id": "61d35f16",
        "outputId": "70e25f44-7b4e-4722-8e5c-ceb932e58c53"
      },
      "outputs": [
        {
          "data": {
            "text/plain": [
              "0.17407765595569785"
            ]
          },
          "execution_count": 37,
          "metadata": {},
          "output_type": "execute_result"
        }
      ],
      "source": [
        "similarity"
      ]
    },
    {
      "cell_type": "code",
      "execution_count": null,
      "id": "d69fcd34",
      "metadata": {
        "id": "d69fcd34"
      },
      "outputs": [],
      "source": [
        "user_query=\"is yoga good for health\"\n",
        "document=\"yoga is very good for living healthy lifesytle.\""
      ]
    },
    {
      "cell_type": "code",
      "execution_count": null,
      "id": "c4a46f15",
      "metadata": {
        "id": "c4a46f15"
      },
      "outputs": [],
      "source": [
        "def cosine_similarity(query, document):\n",
        "    # Tokenize and convert to lowercase\n",
        "    query_tokens = query.lower().split(\" \")\n",
        "    document_tokens = document.lower().split(\" \")\n",
        "\n",
        "    # Create Counters for query and document\n",
        "    query_counter = Counter(query_tokens)\n",
        "    document_counter = Counter(document_tokens)\n",
        "\n",
        "    # Calculate dot product\n",
        "    dot_product = sum(query_counter[token] * document_counter[token] for token in query_counter.keys() & document_counter.keys())\n",
        "\n",
        "    # Calculate magnitudes\n",
        "    query_magnitude = math.sqrt(sum(query_counter[token] ** 2 for token in query_counter))\n",
        "    document_magnitude = math.sqrt(sum(document_counter[token] ** 2 for token in document_counter))\n",
        "\n",
        "    # Calculate cosine similarity\n",
        "    similarity = dot_product / (query_magnitude * document_magnitude) if query_magnitude * document_magnitude != 0 else 0\n",
        "\n",
        "    return similarity"
      ]
    },
    {
      "cell_type": "code",
      "execution_count": null,
      "id": "fa83e853",
      "metadata": {
        "id": "fa83e853",
        "outputId": "ac12ff83-f04d-48db-b0ad-e4bf2a7b21a4"
      },
      "outputs": [
        {
          "data": {
            "text/plain": [
              "0.6324555320336759"
            ]
          },
          "execution_count": 41,
          "metadata": {},
          "output_type": "execute_result"
        }
      ],
      "source": [
        "cosine_similarity(user_query,document)"
      ]
    },
    {
      "cell_type": "code",
      "execution_count": null,
      "id": "ab24b8b2",
      "metadata": {
        "id": "ab24b8b2"
      },
      "outputs": [],
      "source": [
        "def return_response(query, corpus):\n",
        "    similarities = []\n",
        "    for doc in corpus:\n",
        "        similarity = cosine_similarity(query, doc)\n",
        "        similarities.append(similarity)\n",
        "    return corpus_of_documents[similarities.index(max(similarities))]"
      ]
    },
    {
      "cell_type": "code",
      "execution_count": null,
      "id": "023735d7",
      "metadata": {
        "id": "023735d7",
        "outputId": "96613571-aeeb-41d2-f657-3bd1d4fba81f"
      },
      "outputs": [
        {
          "data": {
            "text/plain": [
              "['Take a leisurely walk in the park and enjoy the fresh air.',\n",
              " 'Visit a local museum and discover something new.',\n",
              " 'Attend a live music concert and feel the rhythm.',\n",
              " 'Go for a hike and admire the natural scenery.',\n",
              " 'Have a picnic with friends and share some laughs.',\n",
              " 'Explore a new cuisine by dining at an ethnic restaurant.',\n",
              " 'Take a yoga class and stretch your body and mind.',\n",
              " 'Join a local sports league and enjoy some friendly competition.',\n",
              " \"Attend a workshop or lecture on a topic you're interested in.\",\n",
              " 'Visit an amusement park and ride the roller coasters.']"
            ]
          },
          "execution_count": 43,
          "metadata": {},
          "output_type": "execute_result"
        }
      ],
      "source": [
        "corpus_of_documents"
      ]
    },
    {
      "cell_type": "code",
      "execution_count": null,
      "id": "f32d993f",
      "metadata": {
        "id": "f32d993f"
      },
      "outputs": [],
      "source": [
        "user_input=\"i like fresh air.\""
      ]
    },
    {
      "cell_type": "code",
      "execution_count": null,
      "id": "4c507fab",
      "metadata": {
        "id": "4c507fab"
      },
      "outputs": [],
      "source": [
        "relevant_document=return_response(query,corpus_of_documents)"
      ]
    },
    {
      "cell_type": "code",
      "execution_count": null,
      "id": "2d1850ac",
      "metadata": {
        "id": "2d1850ac"
      },
      "outputs": [],
      "source": [
        "user_input=\"i like to do yoga\""
      ]
    },
    {
      "cell_type": "code",
      "execution_count": null,
      "id": "d8f6b867",
      "metadata": {
        "id": "d8f6b867"
      },
      "outputs": [],
      "source": [
        "relevant_document=return_response(user_input,corpus_of_documents)"
      ]
    },
    {
      "cell_type": "code",
      "execution_count": null,
      "id": "7f92bf25",
      "metadata": {
        "id": "7f92bf25",
        "outputId": "1dea3467-b7e5-4849-ca03-adf470f0b96d"
      },
      "outputs": [
        {
          "data": {
            "text/plain": [
              "'Take a yoga class and stretch your body and mind.'"
            ]
          },
          "execution_count": 63,
          "metadata": {},
          "output_type": "execute_result"
        }
      ],
      "source": [
        "relevant_document"
      ]
    },
    {
      "cell_type": "code",
      "execution_count": null,
      "id": "a54258a9",
      "metadata": {
        "id": "a54258a9"
      },
      "outputs": [],
      "source": [
        "# how you can configure llm in your local system\n",
        "# LLAMA2\n",
        "#hugging face(we are not going to use this one)"
      ]
    },
    {
      "cell_type": "code",
      "execution_count": null,
      "id": "509202f7",
      "metadata": {
        "id": "509202f7"
      },
      "outputs": [],
      "source": [
        "# augument this response by using llama2 model"
      ]
    },
    {
      "cell_type": "code",
      "execution_count": null,
      "id": "e2aaf141",
      "metadata": {
        "id": "e2aaf141"
      },
      "outputs": [],
      "source": [
        "import requests\n",
        "import json\n",
        "full_response = []"
      ]
    },
    {
      "cell_type": "code",
      "execution_count": null,
      "id": "409d8b4c",
      "metadata": {
        "id": "409d8b4c",
        "outputId": "86ad2b65-61e4-40a5-e739-2ee4e8c6b738"
      },
      "outputs": [
        {
          "name": "stdout",
          "output_type": "stream",
          "text": [
            " Great! Based on your interest in yoga, I recommend taking a yoga class to stretch both your body and mind. It's a great way to relax, improve flexibility, and reduce stress.\n"
          ]
        }
      ],
      "source": [
        "full_response = []\n",
        "prompt = \"\"\"\n",
        "You are a bot that makes recommendations for activities. You answer in very short sentences and do not include extra information.\n",
        "This is the recommended activity: {relevant_document}\n",
        "The user input is: {user_input}\n",
        "Compile a recommendation to the user based on the recommended activity and the user input.\n",
        "\"\"\"\n",
        "\n",
        "url = 'http://localhost:11434/api/generate'\n",
        "\n",
        "\n",
        "data = {\n",
        "    \"model\": \"llama2\",\n",
        "    \"prompt\": prompt.format(user_input=user_input, relevant_document=relevant_document)\n",
        "}\n",
        "\n",
        "headers = {'Content-Type': 'application/json'}\n",
        "\n",
        "response = requests.post(url, data=json.dumps(data), headers=headers, stream=True)\n",
        "\n",
        "\n",
        "try:\n",
        "    for line in response.iter_lines():\n",
        "        # filter out keep-alive new lines\n",
        "        if line:\n",
        "            decoded_line = json.loads(line.decode('utf-8'))\n",
        "            # print(decoded_line['response'])  # uncomment to results, token by token\n",
        "            full_response.append(decoded_line['response'])\n",
        "finally:\n",
        "    response.close()\n",
        "\n",
        "\n",
        "print(''.join(full_response))"
      ]
    },
    {
      "cell_type": "code",
      "execution_count": null,
      "id": "39db0d80",
      "metadata": {
        "id": "39db0d80"
      },
      "outputs": [],
      "source": []
    }
  ],
  "metadata": {
    "kernelspec": {
      "display_name": "Python 3 (ipykernel)",
      "language": "python",
      "name": "python3"
    },
    "language_info": {
      "codemirror_mode": {
        "name": "ipython",
        "version": 3
      },
      "file_extension": ".py",
      "mimetype": "text/x-python",
      "name": "python",
      "nbconvert_exporter": "python",
      "pygments_lexer": "ipython3",
      "version": "3.9.7"
    },
    "colab": {
      "provenance": []
    }
  },
  "nbformat": 4,
  "nbformat_minor": 5
}